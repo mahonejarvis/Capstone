{
 "cells": [
  {
   "attachments": {},
   "cell_type": "markdown",
   "metadata": {},
   "source": [
    "# Capstone Development (Questions and Links)\n",
    "\n",
    "# How does homelessness affect student academic performance? \n",
    "\n",
    "[This is an external link to Homeless Students in Public Schools]\n",
    "https://www.nsba.org/Perspectives/2021/homeless-students\n",
    "\n",
    "[This is an external link to the U.S. Department of Education]\n",
    "https://www2.ed.gov/about/inits/ed/edfacts/data-files/school-status-data.html\n",
    "\n",
    "[This is an external linke to Dept of Ed Homeless Student Count (Combined)]\n",
    "https://data.world/mschnars/dept-of-ed-homeless-student-count-combined"
   ]
  }
 ],
 "metadata": {
  "kernelspec": {
   "display_name": "Python 3",
   "language": "python",
   "name": "python3"
  },
  "language_info": {
   "name": "python",
   "version": "3.11.1"
  },
  "orig_nbformat": 4,
  "vscode": {
   "interpreter": {
    "hash": "aee8b7b246df8f9039afb4144a1f6fd8d2ca17a180786b69acc140d282b71a49"
   }
  }
 },
 "nbformat": 4,
 "nbformat_minor": 2
}
